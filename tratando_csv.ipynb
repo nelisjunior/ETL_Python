{
  "cells": [
    {
      "cell_type": "markdown",
      "metadata": {
        "id": "view-in-github",
        "colab_type": "text"
      },
      "source": [
        "<a href=\"https://colab.research.google.com/github/nelisjunior/ETL_Python/blob/main/tratando_csv.ipynb\" target=\"_parent\"><img src=\"https://colab.research.google.com/assets/colab-badge.svg\" alt=\"Open In Colab\"/></a>"
      ]
    },
    {
      "cell_type": "markdown",
      "source": [
        "# Manipulando arquivos CSV em Python com Jupyter\n",
        "\n",
        "Alguns projetos possuem arquivos com formato de encode antigo. E por isso, pode ser uma dor de cabeça na hora de trabalhar com eles em sistemas mais novos.\n",
        "\n",
        "Diante dessa problemática, precisei criar este notebook para converter arquivos CSV de forma mais facilitada."
      ],
      "metadata": {
        "id": "F-j_8INLPkr3"
      }
    },
    {
      "cell_type": "markdown",
      "source": [
        "## Importações iniciais"
      ],
      "metadata": {
        "id": "yxJYqlefVtHc"
      }
    },
    {
      "cell_type": "code",
      "source": [
        "import unicodedata\n",
        "import chardet\n",
        "import pandas as pd\n",
        "import datetime\n",
        "\n",
        "from google.colab import files"
      ],
      "metadata": {
        "id": "NkGJb3WkRh6_"
      },
      "execution_count": null,
      "outputs": []
    },
    {
      "cell_type": "markdown",
      "source": [
        "## Carregando o arquivo CSV"
      ],
      "metadata": {
        "id": "_43PiuCMV0mV"
      }
    },
    {
      "cell_type": "code",
      "source": [
        "# CARGA\n",
        "\n",
        "# Fazer upload do arquivo CSV\n",
        "uploaded = files.upload()\n",
        "\n",
        "# Obter o nome do arquivo enviado\n",
        "filename = next(iter(uploaded))\n",
        "\n",
        "# Obtenha a data atual\n",
        "data_atual = datetime.datetime.now().strftime(\"%Y-%m-%d_%H-%M-%S\")\n",
        "\n",
        "# Obter o nome do arquivo atual sem a extensão\n",
        "nome_arquivo_atual = filename.split(\".\")[0]\n",
        "\n",
        "# Criar o novo nome do arquivo combinando o nome atual e a data atual\n",
        "novo_nome_arquivo = f\"{nome_arquivo_atual}_{data_atual}.csv\"\n",
        "\n",
        "# Salvar o arquivo com o novo nome\n",
        "with open(novo_nome_arquivo, 'wb') as f:\n",
        "    f.write(uploaded[filename])\n",
        "\n",
        "# Exibir a mensagem com o nome do arquivo salvo\n",
        "print(\"O arquivo foi salvo como:\", novo_nome_arquivo)\n",
        "\n",
        "# Carregar o arquivo CSV em um DataFrame do Pandas\n",
        "df = pd.read_csv(filename, header=None)"
      ],
      "metadata": {
        "id": "r0THLzpjVkY7"
      },
      "execution_count": null,
      "outputs": []
    },
    {
      "cell_type": "markdown",
      "source": [
        "## Tratamento"
      ],
      "metadata": {
        "id": "SQyVzqzFV75X"
      }
    },
    {
      "cell_type": "code",
      "source": [
        "# Tratamento\n",
        "\n",
        "def fix_encoding(text):\n",
        "    # Detectar a codificação correta do texto\n",
        "    encoding = chardet.detect(text.encode())['encoding']\n",
        "\n",
        "    # Normalizar os caracteres para a forma NFC\n",
        "    normalized_text = unicodedata.normalize('NFC', text)\n",
        "\n",
        "    return normalized_text\n",
        "\n",
        "# Aplique a função de correção de codificação na primeira coluna\n",
        "df[0] = df[0].apply(fix_encoding)\n",
        "\n",
        "# Exiba o DataFrame corrigido\n",
        "df"
      ],
      "metadata": {
        "id": "_yeJluYtVcgR"
      },
      "execution_count": null,
      "outputs": []
    },
    {
      "cell_type": "markdown",
      "source": [
        "## Baixar Arquivo modificado"
      ],
      "metadata": {
        "id": "j1YSan0cV_Pn"
      }
    },
    {
      "cell_type": "code",
      "source": [
        "# Obtenha a data atual\n",
        "data_atual = datetime.datetime.now().strftime(\"%Y-%m-%d_%H-%M-%S\")\n",
        "\n",
        "# Crie o novo nome do arquivo com o sufixo e a data atual\n",
        "novo_nome_arquivo = filename.split(\".\")[0] + \"_tratado_\" + data_atual + \".csv\"\n",
        "\n",
        "# Salve o DataFrame corrigido no novo arquivo CSV\n",
        "df.to_csv(novo_nome_arquivo, index=False)\n",
        "\n",
        "# Exiba a mensagem com o nome do arquivo salvo\n",
        "print(\"O arquivo corrigido foi salvo como:\", novo_nome_arquivo)\n",
        "\n",
        "# Faça o download imediato do arquivo\n",
        "files.download(novo_nome_arquivo)"
      ],
      "metadata": {
        "id": "JLdBEriUSjnU"
      },
      "execution_count": null,
      "outputs": []
    }
  ],
  "metadata": {
    "colab": {
      "name": "scratchpad",
      "provenance": [],
      "include_colab_link": true
    },
    "kernelspec": {
      "display_name": "Python 3",
      "name": "python3"
    }
  },
  "nbformat": 4,
  "nbformat_minor": 0
}
