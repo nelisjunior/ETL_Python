{
  "nbformat": 4,
  "nbformat_minor": 0,
  "metadata": {
    "colab": {
      "provenance": [],
      "authorship_tag": "ABX9TyMXqg8N9aBbOHyebNc+T/1n",
      "include_colab_link": true
    },
    "kernelspec": {
      "name": "python3",
      "display_name": "Python 3"
    },
    "language_info": {
      "name": "python"
    }
  },
  "cells": [
    {
      "cell_type": "markdown",
      "metadata": {
        "id": "view-in-github",
        "colab_type": "text"
      },
      "source": [
        "<a href=\"https://colab.research.google.com/github/nelisjunior/ETL_Python/blob/main/request_api_ciee.ipynb\" target=\"_parent\"><img src=\"https://colab.research.google.com/assets/colab-badge.svg\" alt=\"Open In Colab\"/></a>"
      ]
    },
    {
      "cell_type": "code",
      "execution_count": 1,
      "metadata": {
        "id": "-H18WfQrybsb"
      },
      "outputs": [],
      "source": [
        "import requests\n",
        "import json\n"
      ]
    },
    {
      "cell_type": "code",
      "source": [
        "url = \"https://api.ciee.org.br/core/professional-area?nivelEnsino=SU&ativo=true\"\n",
        "url2 = \"https://api.ciee.org.br/core/professional-area?idAreaProfissional=SU&ativo=true\""
      ],
      "metadata": {
        "id": "mHqPdRC0yd4t"
      },
      "execution_count": 4,
      "outputs": []
    },
    {
      "cell_type": "code",
      "source": [
        "# Fazendo a solicitação GET para a URL\n",
        "response = requests.get(url2)\n",
        "\n",
        "# Verificando se a solicitação foi bem-sucedida (código de status 200)\n",
        "if response.status_code == 200:\n",
        "    # Carregando o JSON da resposta\n",
        "    data = response.json()\n",
        "\n",
        "# Acessando a lista de elementos dentro de \"reducedDescription\"\n",
        "reduced_description_list = [item[\"reducedDescription\"] for item in data]\n",
        "\n",
        "# Imprimindo a lista de elementos em formato vertical\n",
        "for description in reduced_description_list:\n",
        "    print(description)"
      ],
      "metadata": {
        "colab": {
          "base_uri": "https://localhost:8080/"
        },
        "id": "6uDgYkDvygFf",
        "outputId": "087459d9-bfeb-4c71-b1f4-c316b6d026aa"
      },
      "execution_count": 10,
      "outputs": [
        {
          "output_type": "stream",
          "name": "stdout",
          "text": [
            "Agropecuária\n",
            "Agropecuária - TÉC.\n",
            "Alimentos\n",
            "Alimentos - TÉC.\n",
            "Arquitetura e Urbanismo\n",
            "Arquivologia\n",
            "Artes\n",
            "Artes - TÉC.\n",
            "Atendimento ao cliente\n",
            "Audiovisual - TÉC.\n",
            "BIOLOGIA\n",
            "Biblioteca\n",
            "CRP SP\n",
            "Comunicação\n",
            "Comunicação - TÉC.\n",
            "Comércio - TÉC.\n",
            "Comércio Exterior\n",
            "Comércio Exterior - TÉC.\n",
            "Construção Civil\n",
            "Construção Civil - TÉC.\n",
            "Contabilidade\n",
            "Design\n",
            "Design - TÉC.\n",
            "EDUCAÇÃO\n",
            "Economia\n",
            "Educação\n",
            "Educação - TÉC.\n",
            "Educação Especial - TÉC.\n",
            "Elétrica-Eletrônica\n",
            "Elétrica-Eletrônica - TÉC.\n",
            "Embelezamento/Estética\n",
            "Embelezamento/Estética - TÉC.\n",
            "Engenharia Ambiental\n",
            "Engenharia de Alimentos\n",
            "Engenharia de Produção\n",
            "Engenharia de minas\n",
            "Ensino Médio\n",
            "Esportes\n",
            "FARMACIA - TEC\n",
            "Farmácia\n",
            "Gastronomia\n",
            "Geociências\n",
            "Geomática\n",
            "Geomática - TÉC.\n",
            "Gestão da Administração\n",
            "Gestão da Administração - TÉC.\n",
            "ITAÚ\n",
            "Indústria\n",
            "Indústria - TÉC.\n",
            "Informática\n",
            "Informática - TÉC.\n",
            "Jurídica\n",
            "Lazer/Desenv.Social - TÉC.\n",
            "Letras\n",
            "Licenciatura\n",
            "MECÂNICA\n",
            "Marketing\n",
            "Marketing - TÉC.\n",
            "Mecânica - Tec\n",
            "Meio Ambiente\n",
            "Meio Ambiente - TÉC.\n",
            "Mineração - TÉC.\n",
            "Moda\n",
            "Moda - TÉC.\n",
            "Nutrição\n",
            "PG-ADMINISTRAÇÃO DE BANCO DE DADOS\n",
            "PRODUÇÃO (ENGENHARIAS)\n",
            "Pesquisa\n",
            "Produção Mecânica\n",
            "Proeja-Ens.Fundamental\n",
            "Projetos - TÉC.\n",
            "Psicologia\n",
            "PÓS - GRADUAÇÃO\n",
            "Pós-graduação\n",
            "Química\n",
            "Química - TÉC.\n",
            "RELACOES INTERNACIONAIS\n",
            "Recursos Operacionais\n",
            "Recursos Pesqueiros\n",
            "Recursos Pesqueiros - TÉC.\n",
            "Religião\n",
            "SITUAÇÕES ESPECIAIS\n",
            "SP URBANISMO\n",
            "Saúde\n",
            "Saúde - TÉC.\n",
            "Secretariado\n",
            "Segurança\n",
            "Segurança - TÉC.\n",
            "Social\n",
            "Telecomunicações\n",
            "Telecomunicações - TÉC.\n",
            "Transportes\n",
            "Transportes - TÉC.\n",
            "Turismo - TÉC.\n",
            "Turismo/Lazer\n",
            "TÉCNICO MECÂNICA\n",
            "Veterinária-TEC\n"
          ]
        }
      ]
    },
    {
      "cell_type": "code",
      "source": [
        "len(reduced_description_list)"
      ],
      "metadata": {
        "colab": {
          "base_uri": "https://localhost:8080/"
        },
        "id": "Yv3xhjCg6LP0",
        "outputId": "720fc301-8ac6-407e-8874-dd1c7909919a"
      },
      "execution_count": 11,
      "outputs": [
        {
          "output_type": "execute_result",
          "data": {
            "text/plain": [
              "97"
            ]
          },
          "metadata": {},
          "execution_count": 11
        }
      ]
    }
  ]
}