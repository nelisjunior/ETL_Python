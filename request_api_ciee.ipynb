{
  "nbformat": 4,
  "nbformat_minor": 0,
  "metadata": {
    "colab": {
      "provenance": [],
      "authorship_tag": "ABX9TyMXqg8N9aBbOHyebNc+T/1n",
      "include_colab_link": true
    },
    "kernelspec": {
      "name": "python3",
      "display_name": "Python 3"
    },
    "language_info": {
      "name": "python"
    }
  },
  "cells": [
    {
      "cell_type": "markdown",
      "metadata": {
        "id": "view-in-github",
        "colab_type": "text"
      },
      "source": [
        "<a href=\"https://colab.research.google.com/github/nelisjunior/ETL_Python/blob/main/request_api_ciee.ipynb\" target=\"_parent\"><img src=\"https://colab.research.google.com/assets/colab-badge.svg\" alt=\"Open In Colab\"/></a>"
      ]
    },
    {
      "cell_type": "code",
      "execution_count": null,
      "metadata": {
        "id": "-H18WfQrybsb"
      },
      "outputs": [],
      "source": [
        "import requests\n",
        "import json\n"
      ]
    },
    {
      "cell_type": "code",
      "source": [
        "url = \"https://api.ciee.org.br/core/professional-area?nivelEnsino=SU&ativo=true\"\n",
        "url2 = \"https://api.ciee.org.br/core/professional-area?idAreaProfissional=SU&ativo=true\""
      ],
      "metadata": {
        "id": "mHqPdRC0yd4t"
      },
      "execution_count": null,
      "outputs": []
    },
    {
      "cell_type": "code",
      "source": [
        "# Fazendo a solicitação GET para a URL\n",
        "response = requests.get(url2)\n",
        "\n",
        "# Verificando se a solicitação foi bem-sucedida (código de status 200)\n",
        "if response.status_code == 200:\n",
        "    # Carregando o JSON da resposta\n",
        "    data = response.json()\n",
        "\n",
        "# Acessando a lista de elementos dentro de \"reducedDescription\"\n",
        "reduced_description_list = [item[\"reducedDescription\"] for item in data]\n",
        "\n",
        "# Imprimindo a lista de elementos em formato vertical\n",
        "for description in reduced_description_list:\n",
        "    print(description)"
      ],
      "metadata": {
        "id": "6uDgYkDvygFf"
      },
      "execution_count": null,
      "outputs": []
    },
    {
      "cell_type": "code",
      "source": [
        "len(reduced_description_list)"
      ],
      "metadata": {
        "colab": {
          "base_uri": "https://localhost:8080/"
        },
        "id": "Yv3xhjCg6LP0",
        "outputId": "720fc301-8ac6-407e-8874-dd1c7909919a"
      },
      "execution_count": null,
      "outputs": [
        {
          "output_type": "execute_result",
          "data": {
            "text/plain": [
              "97"
            ]
          },
          "metadata": {},
          "execution_count": 11
        }
      ]
    }
  ]
}